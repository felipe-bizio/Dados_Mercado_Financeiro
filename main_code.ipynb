{
 "cells": [
  {
   "cell_type": "markdown",
   "metadata": {},
   "source": [
    "## <font color='Blue'>Dados de Mercado Financeiro</font>\n",
    "---\n",
    "## <font color='black'>Tratamento de dados utilizando python</font>\n",
    "---\n",
    "### <font color='black'>Análise do mercado de ações para as 5 maiores empresas dos Estados Unidos em 2023, no período de 5 anos.</font>\n",
    "---"
   ]
  },
  {
   "cell_type": "markdown",
   "metadata": {},
   "source": [
    "### <font color='gray'>Etapa 1) Importando os arquivos .csv </font>"
   ]
  },
  {
   "cell_type": "code",
   "execution_count": 11,
   "metadata": {},
   "outputs": [],
   "source": [
    "import pandas as pd\n",
    "\n",
    "# Defina o caminho da pasta onde os arquivos CSV estão armazenados\n",
    "folder_path = \"C:/Users/Pichau/Documents/Power_BI/Projeto_Mercado_Financeiro/_yrs_csv/\"\n",
    "\n",
    "# Definição do dicionario para os arquivos .csv\n",
    "arquivos = {\n",
    "    'Apple' : folder_path + 'apple.csv',\n",
    "    'Amazon' : folder_path + 'amazon.csv',\n",
    "    'Google' : folder_path + 'google.csv',\n",
    "    'Microsoft' : folder_path + 'microsoft.csv',\n",
    "    'Nvidia' : folder_path + 'nvidia.csv'\n",
    "}\n",
    "\n",
    "# Criação de lista para armazenamento dos DataFrames\n",
    "df_list = []"
   ]
  },
  {
   "cell_type": "markdown",
   "metadata": {},
   "source": [
    "### <font color='gray'>Etapa 2) Realizando a formatação dos dados. </font>"
   ]
  },
  {
   "cell_type": "code",
   "execution_count": 12,
   "metadata": {},
   "outputs": [],
   "source": [
    "\n",
    "# Função para tratar cada DataFrame\n",
    "def tratar_dados(df, nome_empresa):\n",
    "    # Adicionando uma coluno com o nome de cada empresa listada\n",
    "    df['Company'] = nome_empresa\n",
    "\n",
    "    # Garantir que as colunas de preço sejam strings antes da substituição\n",
    "    df['Close/Last'] = df['Close/Last'].astype(str)\n",
    "    df['Open'] = df['Open'].astype(str)\n",
    "    df['High'] = df['High'].astype(str)\n",
    "    df['Low'] = df['Low'].astype(str)\n",
    "\n",
    "    # Remover o símbolo de dólar ($) e converter para número\n",
    "    df['Close/Last'] = df['Close/Last'].str.replace('$','',regex=False).str.replace(',','').astype(float)\n",
    "    df['Open'] = df['Open'].str.replace('$','',regex=False).str.replace(',','').astype(float)\n",
    "    df['High'] = df['High'].str.replace('$','',regex=False).str.replace(',','').astype(float)\n",
    "    df['Low'] = df['Low'].str.replace('$','',regex=False).str.replace(',','').astype(float)\n",
    "\n",
    "    # Ajuste do separador decimal para vírgula\n",
    "    df['Close/Last'] = df['Close/Last'].map(lambda x: f\"{x:.2f}\".replace('.',','))\n",
    "    df['Open'] = df['Open'].map(lambda x: f\"{x:.2f}\".replace('.',','))\n",
    "    df['High'] = df['High'].map(lambda x: f\"{x: .2f}\".replace('.',','))\n",
    "    df['Low'] = df['Low'].map(lambda x: f\"{x: .2f}\".replace('.',','))\n",
    "\n",
    "    return df\n"
   ]
  },
  {
   "cell_type": "markdown",
   "metadata": {},
   "source": [
    "### <font color='gray'>Etapa 3) Processamento dos arquivos, união das planilhas e salvamento na pasta.</font>"
   ]
  },
  {
   "cell_type": "code",
   "execution_count": 13,
   "metadata": {},
   "outputs": [
    {
     "name": "stdout",
     "output_type": "stream",
     "text": [
      "         Date Close/Last    Volume    Open     High      Low Company\n",
      "0  09/16/2024     216,32  59357430  216,54   217,22   213,92   Apple\n",
      "1  09/13/2024     222,50  36766620  223,58   224,04   221,91   Apple\n",
      "2  09/12/2024     222,77  37498230  222,50   223,55   219,82   Apple\n",
      "3  09/11/2024     222,66  44587070  221,46   223,09   217,89   Apple\n",
      "4  09/10/2024     220,11  51591030  218,92   221,48   216,73   Apple\n"
     ]
    }
   ],
   "source": [
    "# Loop \"for\" percorre cada empresa e seu respectivo arquivo CSV no dicionário de arquivos.\n",
    "for empresa, arquivo in arquivos.items():\n",
    "    try:\n",
    "        df = pd.read_csv(arquivo)\n",
    "        df_tratado = tratar_dados(df,empresa)\n",
    "        df_list.append(df_tratado)\n",
    "    except Exception as e:\n",
    "        print(f\"Erro ao processar {empresa}: {e}\")\n",
    "\n",
    "# Concatenar todos os DataFrames tratados em um único DataFrame\n",
    "df_completo = pd.concat(df_list, ignore_index=True)\n",
    "print(df_completo.head())\n",
    "\n",
    "# Salvar o DataFrame concatenado e tratado em um novo arquivo CSV\n",
    "df_completo.to_csv('dados_tratados.csv', index=False)\n"
   ]
  }
 ],
 "metadata": {
  "kernelspec": {
   "display_name": "Python 3",
   "language": "python",
   "name": "python3"
  },
  "language_info": {
   "codemirror_mode": {
    "name": "ipython",
    "version": 3
   },
   "file_extension": ".py",
   "mimetype": "text/x-python",
   "name": "python",
   "nbconvert_exporter": "python",
   "pygments_lexer": "ipython3",
   "version": "3.11.2"
  }
 },
 "nbformat": 4,
 "nbformat_minor": 2
}
